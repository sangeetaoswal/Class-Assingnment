{
 "cells": [
  {
   "cell_type": "code",
   "execution_count": 12,
   "metadata": {
    "collapsed": true
   },
   "outputs": [],
   "source": [
    "def f1(char):\n",
    "    if (char == 'a' or char == 'e' or char == 'i' or char == 'o' or char == 'u'):\n",
    "        return True\n",
    "    else:\n",
    "        return False\n",
    "    \n"
   ]
  },
  {
   "cell_type": "code",
   "execution_count": 15,
   "metadata": {},
   "outputs": [
    {
     "name": "stdout",
     "output_type": "stream",
     "text": [
      "True\n"
     ]
    }
   ],
   "source": [
    "print(f1('u'))\n"
   ]
  },
  {
   "cell_type": "code",
   "execution_count": 17,
   "metadata": {},
   "outputs": [
    {
     "name": "stdout",
     "output_type": "stream",
     "text": [
      "True\n"
     ]
    }
   ],
   "source": [
    "print(f1('o'))"
   ]
  },
  {
   "cell_type": "code",
   "execution_count": 32,
   "metadata": {},
   "outputs": [
    {
     "name": "stdout",
     "output_type": "stream",
     "text": [
      "Please input the list of words: hhj hjiiuiui\n",
      "['hjiiuiui']\n"
     ]
    }
   ],
   "source": [
    "def filter_long_words(string,n):\n",
    "    return [word for word in string if len(word) > n]\n",
    "words = input(\"Please input the list of words: \").split()\n",
    "print((filter_long_words(words,5)))"
   ]
  },
  {
   "cell_type": "code",
   "execution_count": 35,
   "metadata": {},
   "outputs": [
    {
     "name": "stdout",
     "output_type": "stream",
     "text": [
      "Please input the list of words: jjhj jiuioio opop\n",
      "[4, 7, 4]\n"
     ]
    }
   ],
   "source": [
    "words = input(\"Please input the list of words: \").split()\n",
    " \n",
    "# here we intend to change all animal names\n",
    "# to upper case and return the same\n",
    "len_words = list(map(lambda words: len(words), words))\n",
    " \n",
    "print(len_words)"
   ]
  },
  {
   "cell_type": "code",
   "execution_count": 38,
   "metadata": {},
   "outputs": [
    {
     "name": "stdout",
     "output_type": "stream",
     "text": [
      "area of Triangle : 290.4737509655563\n"
     ]
    }
   ],
   "source": [
    "class Sides:\n",
    "    def __init__(self,a, b, c):\n",
    "        self.a = a\n",
    "        self.b = b\n",
    "        self.c = c\n",
    "        \n",
    "class A(Sides):\n",
    "    def area(self):\n",
    "        s = (self.a + self.b + self.c)/2\n",
    "        return (s*(s-self.a)*(s-self.b)*(s-self.c)) ** 0.5\n",
    "\n",
    "t = A(20,30,40)\n",
    "\n",
    "print(\"area of Triangle : {}\".format(t.area()))"
   ]
  },
  {
   "cell_type": "code",
   "execution_count": null,
   "metadata": {
    "collapsed": true
   },
   "outputs": [],
   "source": []
  }
 ],
 "metadata": {
  "kernelspec": {
   "display_name": "Python 3",
   "language": "python",
   "name": "python3"
  },
  "language_info": {
   "codemirror_mode": {
    "name": "ipython",
    "version": 3
   },
   "file_extension": ".py",
   "mimetype": "text/x-python",
   "name": "python",
   "nbconvert_exporter": "python",
   "pygments_lexer": "ipython3",
   "version": "3.6.1"
  }
 },
 "nbformat": 4,
 "nbformat_minor": 2
}
